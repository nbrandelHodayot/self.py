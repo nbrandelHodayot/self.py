{
  "nbformat": 4,
  "nbformat_minor": 0,
  "metadata": {
    "colab": {
      "name": "Hangman 1.4.2.ipynb",
      "provenance": [],
      "collapsed_sections": [],
      "include_colab_link": true
    },
    "kernelspec": {
      "name": "python3",
      "display_name": "Python 3"
    }
  },
  "cells": [
    {
      "cell_type": "markdown",
      "metadata": {
        "id": "view-in-github",
        "colab_type": "text"
      },
      "source": [
        "<a href=\"https://colab.research.google.com/github/nbrandelHodayot/self.py/blob/main/Hangman_1_4_2.ipynb\" target=\"_parent\"><img src=\"https://colab.research.google.com/assets/colab-badge.svg\" alt=\"Open In Colab\"/></a>"
      ]
    },
    {
      "cell_type": "code",
      "metadata": {
        "id": "_NwZ_NFuofkp",
        "colab": {
          "base_uri": "https://localhost:8080/"
        },
        "outputId": "16f3643f-3b3d-4546-8d69-44e4921508f2"
      },
      "source": [
        "print (\"\"\"picture 1:\n",
        "    x-------x\n",
        "\"\"\")\n",
        "print (\"\"\"picture 2:\n",
        "    x-------x\n",
        "    |\n",
        "    |\n",
        "    |\n",
        "    |\n",
        "    |\n",
        "\"\"\")\n",
        "print (\"\"\"picture 3:\n",
        "    x-------x\n",
        "    |       |\n",
        "    |       0\n",
        "    |\n",
        "    |\n",
        "    |\n",
        "\"\"\")\n",
        "print (\"\"\"picture 4:\n",
        "    x-------x\n",
        "    |       |\n",
        "    |       0\n",
        "    |       |\n",
        "    |\n",
        "    |\n",
        "\n",
        "\"\"\")\n",
        "print (\"\"\"picture 5:\n",
        "    x-------x\n",
        "    |       |\n",
        "    |       0\n",
        "    |      /|\\\\\n",
        "    |\n",
        "    |\n",
        "\n",
        "\"\"\")\n",
        "print (\"\"\"picture 6:\n",
        "    x-------x\n",
        "    |       |\n",
        "    |       0\n",
        "    |      /|\\\\\n",
        "    |      /\n",
        "    |\n",
        "\n",
        "\"\"\")\n",
        "print (\"\"\"picture 7:\n",
        "    x-------x\n",
        "    |       |\n",
        "    |       0\n",
        "    |      /|\\\\\n",
        "    |      / \\\\\n",
        "    | \n",
        "\n",
        "\"\"\")"
      ],
      "execution_count": 1,
      "outputs": [
        {
          "output_type": "stream",
          "text": [
            "picture 1:\n",
            "    x-------x\n",
            "\n",
            "picture 2:\n",
            "    x-------x\n",
            "    |\n",
            "    |\n",
            "    |\n",
            "    |\n",
            "    |\n",
            "\n",
            "picture 3:\n",
            "    x-------x\n",
            "    |       |\n",
            "    |       0\n",
            "    |\n",
            "    |\n",
            "    |\n",
            "\n",
            "picture 4:\n",
            "    x-------x\n",
            "    |       |\n",
            "    |       0\n",
            "    |       |\n",
            "    |\n",
            "    |\n",
            "\n",
            "\n",
            "picture 5:\n",
            "    x-------x\n",
            "    |       |\n",
            "    |       0\n",
            "    |      /|\\\n",
            "    |\n",
            "    |\n",
            "\n",
            "\n",
            "picture 6:\n",
            "    x-------x\n",
            "    |       |\n",
            "    |       0\n",
            "    |      /|\\\n",
            "    |      /\n",
            "    |\n",
            "\n",
            "\n",
            "picture 7:\n",
            "    x-------x\n",
            "    |       |\n",
            "    |       0\n",
            "    |      /|\\\n",
            "    |      / \\\n",
            "    | \n",
            "\n",
            "\n"
          ],
          "name": "stdout"
        }
      ]
    }
  ]
}